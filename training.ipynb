{
  "cells": [
    {
      "cell_type": "code",
      "execution_count": null,
      "metadata": {
        "colab": {
          "base_uri": "https://localhost:8080/"
        },
        "id": "UKyAYb-RKzX_",
        "outputId": "c50374f9-78bf-4bba-af43-21e8e0e3f77a"
      },
      "outputs": [],
      "source": [
        "from google.colab import drive\n",
        "\n",
        "drive.mount('/content/gdrive')"
      ]
    },
    {
      "cell_type": "code",
      "execution_count": null,
      "metadata": {
        "colab": {
          "base_uri": "https://localhost:8080/"
        },
        "id": "D55TCpMeIWXk",
        "outputId": "1d95b219-434b-484c-ffba-0fb79f05501d"
      },
      "outputs": [],
      "source": [
        "!git clone https://github.com/ultralytics/yolov5"
      ]
    },
    {
      "cell_type": "code",
      "execution_count": null,
      "metadata": {
        "colab": {
          "base_uri": "https://localhost:8080/"
        },
        "id": "goOKa8GIJCps",
        "outputId": "8c994175-c4f0-4c5b-920a-b4475f8af040"
      },
      "outputs": [],
      "source": [
        "!cd yolov5 && python train.py --img 640 --workers 24 --batch 32 --epochs 20 --data dataset.yml --weights best_20e_aug_street.pt --hyp hyp.scratch-high.yaml"
      ]
    },
    {
      "cell_type": "code",
      "execution_count": null,
      "metadata": {
        "id": "-IzHuvH-Jz8O"
      },
      "outputs": [],
      "source": [
        "!zip -r /content/yolov5.zip /content/yolov5/"
      ]
    },
    {
      "cell_type": "code",
      "execution_count": null,
      "metadata": {
        "id": "8KWtOz7ijXOh"
      },
      "outputs": [],
      "source": [
        "from google.colab import files\n",
        "\n",
        "files.download('yolov5.zip')"
      ]
    }
  ],
  "metadata": {
    "accelerator": "GPU",
    "colab": {
      "provenance": []
    },
    "gpuClass": "standard",
    "kernelspec": {
      "display_name": "env",
      "language": "python",
      "name": "python3"
    },
    "language_info": {
      "name": "python",
      "version": "3.9.13 (main, Oct 13 2022, 16:12:19) \n[Clang 12.0.0 ]"
    },
    "vscode": {
      "interpreter": {
        "hash": "628c8dfac5d78654c7e6254260cd7c6bd0837f4e5885cb034199c695d1980728"
      }
    }
  },
  "nbformat": 4,
  "nbformat_minor": 0
}
